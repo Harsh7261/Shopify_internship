{
  "nbformat": 4,
  "nbformat_minor": 0,
  "metadata": {
    "colab": {
      "name": "Untitled6.ipynb",
      "provenance": []
    },
    "kernelspec": {
      "name": "python3",
      "display_name": "Python 3"
    },
    "language_info": {
      "name": "python"
    }
  },
  "cells": [
    {
      "cell_type": "code",
      "execution_count": 126,
      "metadata": {
        "id": "DLF0DkgAoSVg"
      },
      "outputs": [],
      "source": [
        "# Importing Libraries\n",
        "import pandas as pd\n",
        "import matplotlib.pyplot as plt\n",
        "import statistics"
      ]
    },
    {
      "cell_type": "code",
      "source": [
        "# Reading the file \n",
        "df = pd.read_csv('/content/2019 Winter Data Science Intern Challenge Data Set - Sheet1.csv')"
      ],
      "metadata": {
        "id": "IAwgx_P_oT1d"
      },
      "execution_count": 127,
      "outputs": []
    },
    {
      "cell_type": "code",
      "source": [
        "df.head()"
      ],
      "metadata": {
        "id": "H3zbUCxoodPT",
        "outputId": "5f709d9f-0fc8-4490-cef8-219279dac486",
        "colab": {
          "base_uri": "https://localhost:8080/",
          "height": 206
        }
      },
      "execution_count": 128,
      "outputs": [
        {
          "output_type": "execute_result",
          "data": {
            "text/plain": [
              "   order_id  shop_id  user_id  order_amount  total_items payment_method  \\\n",
              "0         1       53      746           224            2           cash   \n",
              "1         2       92      925            90            1           cash   \n",
              "2         3       44      861           144            1           cash   \n",
              "3         4       18      935           156            1    credit_card   \n",
              "4         5       18      883           156            1    credit_card   \n",
              "\n",
              "            created_at  \n",
              "0  2017-03-13 12:36:56  \n",
              "1  2017-03-03 17:38:52  \n",
              "2   2017-03-14 4:23:56  \n",
              "3  2017-03-26 12:43:37  \n",
              "4   2017-03-01 4:35:11  "
            ],
            "text/html": [
              "\n",
              "  <div id=\"df-56c34728-02cd-40e8-8a25-a8b93419c71c\">\n",
              "    <div class=\"colab-df-container\">\n",
              "      <div>\n",
              "<style scoped>\n",
              "    .dataframe tbody tr th:only-of-type {\n",
              "        vertical-align: middle;\n",
              "    }\n",
              "\n",
              "    .dataframe tbody tr th {\n",
              "        vertical-align: top;\n",
              "    }\n",
              "\n",
              "    .dataframe thead th {\n",
              "        text-align: right;\n",
              "    }\n",
              "</style>\n",
              "<table border=\"1\" class=\"dataframe\">\n",
              "  <thead>\n",
              "    <tr style=\"text-align: right;\">\n",
              "      <th></th>\n",
              "      <th>order_id</th>\n",
              "      <th>shop_id</th>\n",
              "      <th>user_id</th>\n",
              "      <th>order_amount</th>\n",
              "      <th>total_items</th>\n",
              "      <th>payment_method</th>\n",
              "      <th>created_at</th>\n",
              "    </tr>\n",
              "  </thead>\n",
              "  <tbody>\n",
              "    <tr>\n",
              "      <th>0</th>\n",
              "      <td>1</td>\n",
              "      <td>53</td>\n",
              "      <td>746</td>\n",
              "      <td>224</td>\n",
              "      <td>2</td>\n",
              "      <td>cash</td>\n",
              "      <td>2017-03-13 12:36:56</td>\n",
              "    </tr>\n",
              "    <tr>\n",
              "      <th>1</th>\n",
              "      <td>2</td>\n",
              "      <td>92</td>\n",
              "      <td>925</td>\n",
              "      <td>90</td>\n",
              "      <td>1</td>\n",
              "      <td>cash</td>\n",
              "      <td>2017-03-03 17:38:52</td>\n",
              "    </tr>\n",
              "    <tr>\n",
              "      <th>2</th>\n",
              "      <td>3</td>\n",
              "      <td>44</td>\n",
              "      <td>861</td>\n",
              "      <td>144</td>\n",
              "      <td>1</td>\n",
              "      <td>cash</td>\n",
              "      <td>2017-03-14 4:23:56</td>\n",
              "    </tr>\n",
              "    <tr>\n",
              "      <th>3</th>\n",
              "      <td>4</td>\n",
              "      <td>18</td>\n",
              "      <td>935</td>\n",
              "      <td>156</td>\n",
              "      <td>1</td>\n",
              "      <td>credit_card</td>\n",
              "      <td>2017-03-26 12:43:37</td>\n",
              "    </tr>\n",
              "    <tr>\n",
              "      <th>4</th>\n",
              "      <td>5</td>\n",
              "      <td>18</td>\n",
              "      <td>883</td>\n",
              "      <td>156</td>\n",
              "      <td>1</td>\n",
              "      <td>credit_card</td>\n",
              "      <td>2017-03-01 4:35:11</td>\n",
              "    </tr>\n",
              "  </tbody>\n",
              "</table>\n",
              "</div>\n",
              "      <button class=\"colab-df-convert\" onclick=\"convertToInteractive('df-56c34728-02cd-40e8-8a25-a8b93419c71c')\"\n",
              "              title=\"Convert this dataframe to an interactive table.\"\n",
              "              style=\"display:none;\">\n",
              "        \n",
              "  <svg xmlns=\"http://www.w3.org/2000/svg\" height=\"24px\"viewBox=\"0 0 24 24\"\n",
              "       width=\"24px\">\n",
              "    <path d=\"M0 0h24v24H0V0z\" fill=\"none\"/>\n",
              "    <path d=\"M18.56 5.44l.94 2.06.94-2.06 2.06-.94-2.06-.94-.94-2.06-.94 2.06-2.06.94zm-11 1L8.5 8.5l.94-2.06 2.06-.94-2.06-.94L8.5 2.5l-.94 2.06-2.06.94zm10 10l.94 2.06.94-2.06 2.06-.94-2.06-.94-.94-2.06-.94 2.06-2.06.94z\"/><path d=\"M17.41 7.96l-1.37-1.37c-.4-.4-.92-.59-1.43-.59-.52 0-1.04.2-1.43.59L10.3 9.45l-7.72 7.72c-.78.78-.78 2.05 0 2.83L4 21.41c.39.39.9.59 1.41.59.51 0 1.02-.2 1.41-.59l7.78-7.78 2.81-2.81c.8-.78.8-2.07 0-2.86zM5.41 20L4 18.59l7.72-7.72 1.47 1.35L5.41 20z\"/>\n",
              "  </svg>\n",
              "      </button>\n",
              "      \n",
              "  <style>\n",
              "    .colab-df-container {\n",
              "      display:flex;\n",
              "      flex-wrap:wrap;\n",
              "      gap: 12px;\n",
              "    }\n",
              "\n",
              "    .colab-df-convert {\n",
              "      background-color: #E8F0FE;\n",
              "      border: none;\n",
              "      border-radius: 50%;\n",
              "      cursor: pointer;\n",
              "      display: none;\n",
              "      fill: #1967D2;\n",
              "      height: 32px;\n",
              "      padding: 0 0 0 0;\n",
              "      width: 32px;\n",
              "    }\n",
              "\n",
              "    .colab-df-convert:hover {\n",
              "      background-color: #E2EBFA;\n",
              "      box-shadow: 0px 1px 2px rgba(60, 64, 67, 0.3), 0px 1px 3px 1px rgba(60, 64, 67, 0.15);\n",
              "      fill: #174EA6;\n",
              "    }\n",
              "\n",
              "    [theme=dark] .colab-df-convert {\n",
              "      background-color: #3B4455;\n",
              "      fill: #D2E3FC;\n",
              "    }\n",
              "\n",
              "    [theme=dark] .colab-df-convert:hover {\n",
              "      background-color: #434B5C;\n",
              "      box-shadow: 0px 1px 3px 1px rgba(0, 0, 0, 0.15);\n",
              "      filter: drop-shadow(0px 1px 2px rgba(0, 0, 0, 0.3));\n",
              "      fill: #FFFFFF;\n",
              "    }\n",
              "  </style>\n",
              "\n",
              "      <script>\n",
              "        const buttonEl =\n",
              "          document.querySelector('#df-56c34728-02cd-40e8-8a25-a8b93419c71c button.colab-df-convert');\n",
              "        buttonEl.style.display =\n",
              "          google.colab.kernel.accessAllowed ? 'block' : 'none';\n",
              "\n",
              "        async function convertToInteractive(key) {\n",
              "          const element = document.querySelector('#df-56c34728-02cd-40e8-8a25-a8b93419c71c');\n",
              "          const dataTable =\n",
              "            await google.colab.kernel.invokeFunction('convertToInteractive',\n",
              "                                                     [key], {});\n",
              "          if (!dataTable) return;\n",
              "\n",
              "          const docLinkHtml = 'Like what you see? Visit the ' +\n",
              "            '<a target=\"_blank\" href=https://colab.research.google.com/notebooks/data_table.ipynb>data table notebook</a>'\n",
              "            + ' to learn more about interactive tables.';\n",
              "          element.innerHTML = '';\n",
              "          dataTable['output_type'] = 'display_data';\n",
              "          await google.colab.output.renderOutput(dataTable, element);\n",
              "          const docLink = document.createElement('div');\n",
              "          docLink.innerHTML = docLinkHtml;\n",
              "          element.appendChild(docLink);\n",
              "        }\n",
              "      </script>\n",
              "    </div>\n",
              "  </div>\n",
              "  "
            ]
          },
          "metadata": {},
          "execution_count": 128
        }
      ]
    },
    {
      "cell_type": "code",
      "source": [
        "# Calculating the average order value \n",
        "Average_Order_Value = df['order_amount'].mean()\n",
        "print(Average_Order_Value)"
      ],
      "metadata": {
        "colab": {
          "base_uri": "https://localhost:8080/"
        },
        "id": "3aWo5a-VcLlg",
        "outputId": "2ef219df-cdad-4fe6-8947-974bff40eb41"
      },
      "execution_count": 129,
      "outputs": [
        {
          "output_type": "stream",
          "name": "stdout",
          "text": [
            "3145.128\n"
          ]
        }
      ]
    },
    {
      "cell_type": "code",
      "source": [
        "# Plotting the histogram to check \n",
        "hist_plot = plt.hist(df['order_amount'],range=[100, 2000],bins = 100)\n",
        "plt.xlabel('Order Amount')\n",
        "plt.ylabel('Total Number of orders')"
      ],
      "metadata": {
        "colab": {
          "base_uri": "https://localhost:8080/",
          "height": 297
        },
        "id": "J9I0oRQ0V566",
        "outputId": "0572c8db-9a1e-47e0-88ad-3e69b27a57cb"
      },
      "execution_count": 130,
      "outputs": [
        {
          "output_type": "execute_result",
          "data": {
            "text/plain": [
              "Text(0, 0.5, 'Total Number of orders')"
            ]
          },
          "metadata": {},
          "execution_count": 130
        },
        {
          "output_type": "display_data",
          "data": {
            "text/plain": [
              "<Figure size 432x288 with 1 Axes>"
            ],
            "image/png": "[encoded data removed]"
          },
          "metadata": {
            "needs_background": "light"
          }
        }
      ]
    },
    {
      "cell_type": "code",
      "source": [
        "(df['order_amount'] <= 800).sum()"
      ],
      "metadata": {
        "colab": {
          "base_uri": "https://localhost:8080/"
        },
        "id": "ACD4KIplXK32",
        "outputId": "de78c8fe-27c4-452c-b291-7d44b28aa3c9"
      },
      "execution_count": 131,
      "outputs": [
        {
          "output_type": "execute_result",
          "data": {
            "text/plain": [
              "4900"
            ]
          },
          "metadata": {},
          "execution_count": 131
        }
      ]
    },
    {
      "cell_type": "markdown",
      "source": [
        "We can see from the above histogram and calculation that maximum number of orders (4900 out of 5000) has order amount less than 800. We can consider all the values greater than 800 as outliers for calculating the average. So the average order value has to be less than 800. "
      ],
      "metadata": {
        "id": "b76x5UcaefEC"
      }
    },
    {
      "cell_type": "code",
      "source": [
        "# Calculating mode\n",
        "order_amt_mode = df['order_amount'].mode()\n",
        "print(order_amt_mode)"
      ],
      "metadata": {
        "colab": {
          "base_uri": "https://localhost:8080/"
        },
        "id": "5tufAnLtZFwh",
        "outputId": "360474e6-82c5-4876-9306-41e64b1f9e97"
      },
      "execution_count": 132,
      "outputs": [
        {
          "output_type": "stream",
          "name": "stdout",
          "text": [
            "0    153\n",
            "dtype: int64\n"
          ]
        }
      ]
    },
    {
      "cell_type": "code",
      "source": [
        "# Calculating mean\n",
        "order_amt_median = df['order_amount'].median()\n",
        "print(order_amt_median)"
      ],
      "metadata": {
        "colab": {
          "base_uri": "https://localhost:8080/"
        },
        "id": "7tUUmLWXZ-H1",
        "outputId": "ccec923d-6a6d-4325-8205-092472344f7e"
      },
      "execution_count": 133,
      "outputs": [
        {
          "output_type": "stream",
          "name": "stdout",
          "text": [
            "284.0\n"
          ]
        }
      ]
    },
    {
      "cell_type": "code",
      "source": [
        "# Creating secondary dataframe with no outliers\n",
        "df_final = df[(df['order_amount'] <= 800)]"
      ],
      "metadata": {
        "id": "PUBaXYmjxKgx"
      },
      "execution_count": 134,
      "outputs": []
    },
    {
      "cell_type": "code",
      "source": [
        "# Calculating mean without outliers\n",
        "subset_mean = df_final['order_amount'].mean()"
      ],
      "metadata": {
        "id": "Tcl-p6VVgmxf"
      },
      "execution_count": 135,
      "outputs": []
    },
    {
      "cell_type": "code",
      "source": [
        "# Calculating standard deviation with the help of mean\n",
        "statistics.pstdev(df_final['order_amount'],subset_mean)"
      ],
      "metadata": {
        "colab": {
          "base_uri": "https://localhost:8080/"
        },
        "id": "Cr3v1Y_GrEPo",
        "outputId": "1ee3ee83-cf8b-4e42-bdd6-e83f2439800a"
      },
      "execution_count": 136,
      "outputs": [
        {
          "output_type": "execute_result",
          "data": {
            "text/plain": [
              "150.1392116656799"
            ]
          },
          "metadata": {},
          "execution_count": 136
        }
      ]
    },
    {
      "cell_type": "code",
      "source": [
        "# Calculating standard deviation with the help of median\n",
        "statistics.pstdev(df_final['order_amount'],order_amt_median)"
      ],
      "metadata": {
        "colab": {
          "base_uri": "https://localhost:8080/"
        },
        "id": "dlzlheL9rIZ9",
        "outputId": "26b44a50-cd91-4be7-b073-e4b2a0050203"
      },
      "execution_count": 137,
      "outputs": [
        {
          "output_type": "execute_result",
          "data": {
            "text/plain": [
              "150.1392116656799"
            ]
          },
          "metadata": {},
          "execution_count": 137
        }
      ]
    },
    {
      "cell_type": "code",
      "source": [
        "# Calculating standard deviation with the help of mode\n",
        "statistics.pstdev(df_final['order_amount'],order_amt_mode[0])"
      ],
      "metadata": {
        "colab": {
          "base_uri": "https://localhost:8080/"
        },
        "id": "eRGCMmTxr8r-",
        "outputId": "4be81ed2-61f6-4c3c-83b4-ef06b762bae3"
      },
      "execution_count": 138,
      "outputs": [
        {
          "output_type": "execute_result",
          "data": {
            "text/plain": [
              "150.136604464068"
            ]
          },
          "metadata": {},
          "execution_count": 138
        }
      ]
    },
    {
      "cell_type": "markdown",
      "source": [
        "Conclusion: If we consider only 98% of the values, we can use any of the central tendency measures to calculate the average order value as the standard deviation between the mean,median, mode is quite negligible as proved above"
      ],
      "metadata": {
        "id": "LloLCs7Xv_P1"
      }
    },
    {
      "cell_type": "markdown",
      "source": [
        "# SQL Question 1 :\n",
        "Query: SELECT Count(OrderID) \n",
        "FROM Orders O, Shippers S\n",
        "where O.ShipperID = S.ShipperID\n",
        "and S.ShipperName = 'Speedy Express'"
      ],
      "metadata": {
        "id": "LJyT89y6yeC7"
      }
    },
    {
      "cell_type": "markdown",
      "source": [
        "#SQL Question 2:\n",
        "SELECT LASTNAME\n",
        "FROM\n",
        "(SELECT E.LASTNAME , E.EMPLOYEEID, COUNT(O.EMPLOYEEID)\n",
        "FROM Employees E, ORDERS O\n",
        "WHERE E.EmployeeID = O.EmployeeID\n",
        "GROUP BY O.EMPLOYEEID\n",
        "ORDER BY COUNT(O.EMPLOYEEID) DESC)\n",
        "LIMIT 1"
      ],
      "metadata": {
        "id": "EazuyqkjyhsY"
      }
    },
    {
      "cell_type": "markdown",
      "source": [
        "# SQL Question 3: Since the questions wasnt clear\n",
        "\n",
        "-- Calculating maximum times a productname is ordered \n",
        "\n",
        "SELECT ProductName\n",
        "FROM (SELECT Od.ProductID,count(OD.ProductID),P.ProductName, C.CustomerID FROM OrderDetails OD, Products P, Orders O, Customers C\n",
        "where OD.ProductID = P.ProductID\n",
        "and O.Orderid = OD.Orderid\n",
        "and O.CustomerID = C.CustomerID\n",
        "and C.Country = 'Germany'\n",
        "Group by OD.ProductID\n",
        "order by count(OD.ProductID) desc)\n",
        "LIMIT 1\n",
        "\n",
        "--- Calculating maximum times a productname is ordered with quantity\n",
        "\n",
        "SELECT ProductName\n",
        "FROM (SELECT Od.ProductID,sum(OD.Quantity) as countt,P.ProductName, C.CustomerID FROM OrderDetails OD, Products P, Orders O, Customers C\n",
        "where OD.ProductID = P.ProductID\n",
        "and O.Orderid = OD.Orderid\n",
        "and O.CustomerID = C.CustomerID\n",
        "and C.Country = 'Germany'\n",
        "Group by OD.ProductID\n",
        "order by countt desc)\n",
        "LIMIT 1"
      ],
      "metadata": {
        "id": "51c7rnlEy3M9"
      }
    }
  ]
}